{
 "cells": [
  {
   "cell_type": "markdown",
   "id": "afff2413",
   "metadata": {},
   "source": [
    "Questions:\n",
    "    1) group Data by Airline Companies\n",
    "    2) View the max fare and min fare\n",
    "    3) find the bussiest route\n",
    "    4) which are the non stop flight provideres\n",
    "    5) relation between price of flight and no. of stops\n",
    "    6) \n",
    "    "
   ]
  },
  {
   "cell_type": "code",
   "execution_count": 138,
   "id": "136cadd6",
   "metadata": {},
   "outputs": [],
   "source": [
    "import numpy as np\n",
    "import pandas as pd\n",
    "import matplotlib.pyplot as plt\n",
    "import seaborn as sns\n",
    "import warnings\n",
    "warnings.filterwarnings(\"ignore\")"
   ]
  },
  {
   "cell_type": "markdown",
   "id": "01e64aac",
   "metadata": {},
   "source": [
    "# Reading Dataset and checking the Nan Values, Data Types and Statistical Ananlysis\n"
   ]
  },
  {
   "cell_type": "code",
   "execution_count": 139,
   "id": "8a5c4181",
   "metadata": {},
   "outputs": [
    {
     "data": {
      "text/html": [
       "<div>\n",
       "<style scoped>\n",
       "    .dataframe tbody tr th:only-of-type {\n",
       "        vertical-align: middle;\n",
       "    }\n",
       "\n",
       "    .dataframe tbody tr th {\n",
       "        vertical-align: top;\n",
       "    }\n",
       "\n",
       "    .dataframe thead th {\n",
       "        text-align: right;\n",
       "    }\n",
       "</style>\n",
       "<table border=\"1\" class=\"dataframe\">\n",
       "  <thead>\n",
       "    <tr style=\"text-align: right;\">\n",
       "      <th></th>\n",
       "      <th>Airline</th>\n",
       "      <th>Date_of_Journey</th>\n",
       "      <th>Source</th>\n",
       "      <th>Destination</th>\n",
       "      <th>Route</th>\n",
       "      <th>Dep_Time</th>\n",
       "      <th>Arrival_Time</th>\n",
       "      <th>Duration</th>\n",
       "      <th>Total_Stops</th>\n",
       "      <th>Additional_Info</th>\n",
       "      <th>Price</th>\n",
       "    </tr>\n",
       "  </thead>\n",
       "  <tbody>\n",
       "    <tr>\n",
       "      <th>0</th>\n",
       "      <td>IndiGo</td>\n",
       "      <td>24/03/2019</td>\n",
       "      <td>Banglore</td>\n",
       "      <td>New Delhi</td>\n",
       "      <td>BLR → DEL</td>\n",
       "      <td>22:20</td>\n",
       "      <td>01:10 22 Mar</td>\n",
       "      <td>2h 50m</td>\n",
       "      <td>non-stop</td>\n",
       "      <td>No info</td>\n",
       "      <td>3897</td>\n",
       "    </tr>\n",
       "    <tr>\n",
       "      <th>1</th>\n",
       "      <td>Air India</td>\n",
       "      <td>1/05/2019</td>\n",
       "      <td>Kolkata</td>\n",
       "      <td>Banglore</td>\n",
       "      <td>CCU → IXR → BBI → BLR</td>\n",
       "      <td>05:50</td>\n",
       "      <td>13:15</td>\n",
       "      <td>7h 25m</td>\n",
       "      <td>2 stops</td>\n",
       "      <td>No info</td>\n",
       "      <td>7662</td>\n",
       "    </tr>\n",
       "    <tr>\n",
       "      <th>2</th>\n",
       "      <td>Jet Airways</td>\n",
       "      <td>9/06/2019</td>\n",
       "      <td>Delhi</td>\n",
       "      <td>Cochin</td>\n",
       "      <td>DEL → LKO → BOM → COK</td>\n",
       "      <td>09:25</td>\n",
       "      <td>04:25 10 Jun</td>\n",
       "      <td>19h</td>\n",
       "      <td>2 stops</td>\n",
       "      <td>No info</td>\n",
       "      <td>13882</td>\n",
       "    </tr>\n",
       "    <tr>\n",
       "      <th>3</th>\n",
       "      <td>IndiGo</td>\n",
       "      <td>12/05/2019</td>\n",
       "      <td>Kolkata</td>\n",
       "      <td>Banglore</td>\n",
       "      <td>CCU → NAG → BLR</td>\n",
       "      <td>18:05</td>\n",
       "      <td>23:30</td>\n",
       "      <td>5h 25m</td>\n",
       "      <td>1 stop</td>\n",
       "      <td>No info</td>\n",
       "      <td>6218</td>\n",
       "    </tr>\n",
       "    <tr>\n",
       "      <th>4</th>\n",
       "      <td>IndiGo</td>\n",
       "      <td>01/03/2019</td>\n",
       "      <td>Banglore</td>\n",
       "      <td>New Delhi</td>\n",
       "      <td>BLR → NAG → DEL</td>\n",
       "      <td>16:50</td>\n",
       "      <td>21:35</td>\n",
       "      <td>4h 45m</td>\n",
       "      <td>1 stop</td>\n",
       "      <td>No info</td>\n",
       "      <td>13302</td>\n",
       "    </tr>\n",
       "  </tbody>\n",
       "</table>\n",
       "</div>"
      ],
      "text/plain": [
       "       Airline Date_of_Journey    Source Destination                  Route  \\\n",
       "0       IndiGo      24/03/2019  Banglore   New Delhi              BLR → DEL   \n",
       "1    Air India       1/05/2019   Kolkata    Banglore  CCU → IXR → BBI → BLR   \n",
       "2  Jet Airways       9/06/2019     Delhi      Cochin  DEL → LKO → BOM → COK   \n",
       "3       IndiGo      12/05/2019   Kolkata    Banglore        CCU → NAG → BLR   \n",
       "4       IndiGo      01/03/2019  Banglore   New Delhi        BLR → NAG → DEL   \n",
       "\n",
       "  Dep_Time  Arrival_Time Duration Total_Stops Additional_Info  Price  \n",
       "0    22:20  01:10 22 Mar   2h 50m    non-stop         No info   3897  \n",
       "1    05:50         13:15   7h 25m     2 stops         No info   7662  \n",
       "2    09:25  04:25 10 Jun      19h     2 stops         No info  13882  \n",
       "3    18:05         23:30   5h 25m      1 stop         No info   6218  \n",
       "4    16:50         21:35   4h 45m      1 stop         No info  13302  "
      ]
     },
     "execution_count": 139,
     "metadata": {},
     "output_type": "execute_result"
    }
   ],
   "source": [
    "df=pd.read_excel(\"data_airlines1.xlsx\")\n",
    "df.head()"
   ]
  },
  {
   "cell_type": "code",
   "execution_count": 140,
   "id": "19461a0d",
   "metadata": {},
   "outputs": [
    {
     "data": {
      "text/plain": [
       "(10683, 11)"
      ]
     },
     "execution_count": 140,
     "metadata": {},
     "output_type": "execute_result"
    }
   ],
   "source": [
    "df.shape"
   ]
  },
  {
   "cell_type": "code",
   "execution_count": 141,
   "id": "79fd5fec",
   "metadata": {},
   "outputs": [
    {
     "name": "stdout",
     "output_type": "stream",
     "text": [
      "<class 'pandas.core.frame.DataFrame'>\n",
      "RangeIndex: 10683 entries, 0 to 10682\n",
      "Data columns (total 11 columns):\n",
      " #   Column           Non-Null Count  Dtype \n",
      "---  ------           --------------  ----- \n",
      " 0   Airline          10683 non-null  object\n",
      " 1   Date_of_Journey  10683 non-null  object\n",
      " 2   Source           10683 non-null  object\n",
      " 3   Destination      10683 non-null  object\n",
      " 4   Route            10682 non-null  object\n",
      " 5   Dep_Time         10683 non-null  object\n",
      " 6   Arrival_Time     10683 non-null  object\n",
      " 7   Duration         10683 non-null  object\n",
      " 8   Total_Stops      10682 non-null  object\n",
      " 9   Additional_Info  10683 non-null  object\n",
      " 10  Price            10683 non-null  int64 \n",
      "dtypes: int64(1), object(10)\n",
      "memory usage: 918.2+ KB\n"
     ]
    }
   ],
   "source": [
    "df.info()"
   ]
  },
  {
   "cell_type": "code",
   "execution_count": 142,
   "id": "14f3e5a6",
   "metadata": {},
   "outputs": [
    {
     "data": {
      "text/html": [
       "<div>\n",
       "<style scoped>\n",
       "    .dataframe tbody tr th:only-of-type {\n",
       "        vertical-align: middle;\n",
       "    }\n",
       "\n",
       "    .dataframe tbody tr th {\n",
       "        vertical-align: top;\n",
       "    }\n",
       "\n",
       "    .dataframe thead th {\n",
       "        text-align: right;\n",
       "    }\n",
       "</style>\n",
       "<table border=\"1\" class=\"dataframe\">\n",
       "  <thead>\n",
       "    <tr style=\"text-align: right;\">\n",
       "      <th></th>\n",
       "      <th>Price</th>\n",
       "    </tr>\n",
       "  </thead>\n",
       "  <tbody>\n",
       "    <tr>\n",
       "      <th>count</th>\n",
       "      <td>10683.000000</td>\n",
       "    </tr>\n",
       "    <tr>\n",
       "      <th>mean</th>\n",
       "      <td>9087.064121</td>\n",
       "    </tr>\n",
       "    <tr>\n",
       "      <th>std</th>\n",
       "      <td>4611.359167</td>\n",
       "    </tr>\n",
       "    <tr>\n",
       "      <th>min</th>\n",
       "      <td>1759.000000</td>\n",
       "    </tr>\n",
       "    <tr>\n",
       "      <th>25%</th>\n",
       "      <td>5277.000000</td>\n",
       "    </tr>\n",
       "    <tr>\n",
       "      <th>50%</th>\n",
       "      <td>8372.000000</td>\n",
       "    </tr>\n",
       "    <tr>\n",
       "      <th>75%</th>\n",
       "      <td>12373.000000</td>\n",
       "    </tr>\n",
       "    <tr>\n",
       "      <th>max</th>\n",
       "      <td>79512.000000</td>\n",
       "    </tr>\n",
       "  </tbody>\n",
       "</table>\n",
       "</div>"
      ],
      "text/plain": [
       "              Price\n",
       "count  10683.000000\n",
       "mean    9087.064121\n",
       "std     4611.359167\n",
       "min     1759.000000\n",
       "25%     5277.000000\n",
       "50%     8372.000000\n",
       "75%    12373.000000\n",
       "max    79512.000000"
      ]
     },
     "execution_count": 142,
     "metadata": {},
     "output_type": "execute_result"
    }
   ],
   "source": [
    "df.describe()"
   ]
  },
  {
   "cell_type": "code",
   "execution_count": 143,
   "id": "be190ba9",
   "metadata": {},
   "outputs": [
    {
     "data": {
      "text/html": [
       "<div>\n",
       "<style scoped>\n",
       "    .dataframe tbody tr th:only-of-type {\n",
       "        vertical-align: middle;\n",
       "    }\n",
       "\n",
       "    .dataframe tbody tr th {\n",
       "        vertical-align: top;\n",
       "    }\n",
       "\n",
       "    .dataframe thead th {\n",
       "        text-align: right;\n",
       "    }\n",
       "</style>\n",
       "<table border=\"1\" class=\"dataframe\">\n",
       "  <thead>\n",
       "    <tr style=\"text-align: right;\">\n",
       "      <th></th>\n",
       "      <th>Airline</th>\n",
       "      <th>Date_of_Journey</th>\n",
       "      <th>Source</th>\n",
       "      <th>Destination</th>\n",
       "      <th>Route</th>\n",
       "      <th>Dep_Time</th>\n",
       "      <th>Arrival_Time</th>\n",
       "      <th>Duration</th>\n",
       "      <th>Total_Stops</th>\n",
       "      <th>Additional_Info</th>\n",
       "    </tr>\n",
       "  </thead>\n",
       "  <tbody>\n",
       "    <tr>\n",
       "      <th>count</th>\n",
       "      <td>10683</td>\n",
       "      <td>10683</td>\n",
       "      <td>10683</td>\n",
       "      <td>10683</td>\n",
       "      <td>10682</td>\n",
       "      <td>10683</td>\n",
       "      <td>10683</td>\n",
       "      <td>10683</td>\n",
       "      <td>10682</td>\n",
       "      <td>10683</td>\n",
       "    </tr>\n",
       "    <tr>\n",
       "      <th>unique</th>\n",
       "      <td>12</td>\n",
       "      <td>44</td>\n",
       "      <td>5</td>\n",
       "      <td>6</td>\n",
       "      <td>128</td>\n",
       "      <td>222</td>\n",
       "      <td>1343</td>\n",
       "      <td>368</td>\n",
       "      <td>5</td>\n",
       "      <td>10</td>\n",
       "    </tr>\n",
       "    <tr>\n",
       "      <th>top</th>\n",
       "      <td>Jet Airways</td>\n",
       "      <td>18/05/2019</td>\n",
       "      <td>Delhi</td>\n",
       "      <td>Cochin</td>\n",
       "      <td>DEL → BOM → COK</td>\n",
       "      <td>18:55</td>\n",
       "      <td>19:00</td>\n",
       "      <td>2h 50m</td>\n",
       "      <td>1 stop</td>\n",
       "      <td>No info</td>\n",
       "    </tr>\n",
       "    <tr>\n",
       "      <th>freq</th>\n",
       "      <td>3849</td>\n",
       "      <td>504</td>\n",
       "      <td>4537</td>\n",
       "      <td>4537</td>\n",
       "      <td>2376</td>\n",
       "      <td>233</td>\n",
       "      <td>423</td>\n",
       "      <td>550</td>\n",
       "      <td>5625</td>\n",
       "      <td>8345</td>\n",
       "    </tr>\n",
       "  </tbody>\n",
       "</table>\n",
       "</div>"
      ],
      "text/plain": [
       "            Airline Date_of_Journey Source Destination            Route  \\\n",
       "count         10683           10683  10683       10683            10682   \n",
       "unique           12              44      5           6              128   \n",
       "top     Jet Airways      18/05/2019  Delhi      Cochin  DEL → BOM → COK   \n",
       "freq           3849             504   4537        4537             2376   \n",
       "\n",
       "       Dep_Time Arrival_Time Duration Total_Stops Additional_Info  \n",
       "count     10683        10683    10683       10682           10683  \n",
       "unique      222         1343      368           5              10  \n",
       "top       18:55        19:00   2h 50m      1 stop         No info  \n",
       "freq        233          423      550        5625            8345  "
      ]
     },
     "execution_count": 143,
     "metadata": {},
     "output_type": "execute_result"
    }
   ],
   "source": [
    "df.describe(include=object)"
   ]
  },
  {
   "cell_type": "code",
   "execution_count": 144,
   "id": "6143bd61",
   "metadata": {},
   "outputs": [
    {
     "data": {
      "text/plain": [
       "Airline            0\n",
       "Date_of_Journey    0\n",
       "Source             0\n",
       "Destination        0\n",
       "Route              1\n",
       "Dep_Time           0\n",
       "Arrival_Time       0\n",
       "Duration           0\n",
       "Total_Stops        1\n",
       "Additional_Info    0\n",
       "Price              0\n",
       "dtype: int64"
      ]
     },
     "execution_count": 144,
     "metadata": {},
     "output_type": "execute_result"
    }
   ],
   "source": [
    "df.isnull().sum()"
   ]
  },
  {
   "cell_type": "code",
   "execution_count": 145,
   "id": "66b32412",
   "metadata": {},
   "outputs": [
    {
     "data": {
      "text/plain": [
       "0    DEL → BOM → COK\n",
       "Name: Route, dtype: object"
      ]
     },
     "execution_count": 145,
     "metadata": {},
     "output_type": "execute_result"
    }
   ],
   "source": [
    "df['Route'].mode()"
   ]
  },
  {
   "cell_type": "code",
   "execution_count": 146,
   "id": "96fb8a4d",
   "metadata": {},
   "outputs": [],
   "source": [
    "df['Route']=df['Route'].fillna(df['Route'].mode()[0])"
   ]
  },
  {
   "cell_type": "code",
   "execution_count": 147,
   "id": "ad9a8dd8",
   "metadata": {},
   "outputs": [
    {
     "data": {
      "text/plain": [
       "0    1 stop\n",
       "Name: Total_Stops, dtype: object"
      ]
     },
     "execution_count": 147,
     "metadata": {},
     "output_type": "execute_result"
    }
   ],
   "source": [
    "df['Total_Stops'].mode()"
   ]
  },
  {
   "cell_type": "code",
   "execution_count": 148,
   "id": "5e88bbc8",
   "metadata": {},
   "outputs": [],
   "source": [
    "df['Total_Stops']=df['Total_Stops'].fillna(df['Total_Stops'].mode()[0])"
   ]
  },
  {
   "cell_type": "code",
   "execution_count": 149,
   "id": "6a48f544",
   "metadata": {},
   "outputs": [
    {
     "data": {
      "text/plain": [
       "0"
      ]
     },
     "execution_count": 149,
     "metadata": {},
     "output_type": "execute_result"
    }
   ],
   "source": [
    "df.isnull().sum().sum()"
   ]
  },
  {
   "cell_type": "markdown",
   "id": "b28ef104",
   "metadata": {},
   "source": [
    "# converting object data type to datetime for date time data\n"
   ]
  },
  {
   "cell_type": "code",
   "execution_count": 150,
   "id": "8ca85a13",
   "metadata": {},
   "outputs": [],
   "source": [
    "df['Date_of_Journey']=pd.to_datetime(df['Date_of_Journey'])"
   ]
  },
  {
   "cell_type": "code",
   "execution_count": 151,
   "id": "5957dac2",
   "metadata": {},
   "outputs": [],
   "source": [
    "df['Dep_Time']=pd.to_datetime(df['Dep_Time'])"
   ]
  },
  {
   "cell_type": "code",
   "execution_count": 152,
   "id": "5f1a6a63",
   "metadata": {},
   "outputs": [],
   "source": [
    "df['Arrival_Time']=pd.to_datetime(df['Arrival_Time'])"
   ]
  },
  {
   "cell_type": "code",
   "execution_count": 153,
   "id": "9894cfc2",
   "metadata": {},
   "outputs": [
    {
     "name": "stdout",
     "output_type": "stream",
     "text": [
      "<class 'pandas.core.frame.DataFrame'>\n",
      "RangeIndex: 10683 entries, 0 to 10682\n",
      "Data columns (total 11 columns):\n",
      " #   Column           Non-Null Count  Dtype         \n",
      "---  ------           --------------  -----         \n",
      " 0   Airline          10683 non-null  object        \n",
      " 1   Date_of_Journey  10683 non-null  datetime64[ns]\n",
      " 2   Source           10683 non-null  object        \n",
      " 3   Destination      10683 non-null  object        \n",
      " 4   Route            10683 non-null  object        \n",
      " 5   Dep_Time         10683 non-null  datetime64[ns]\n",
      " 6   Arrival_Time     10683 non-null  datetime64[ns]\n",
      " 7   Duration         10683 non-null  object        \n",
      " 8   Total_Stops      10683 non-null  object        \n",
      " 9   Additional_Info  10683 non-null  object        \n",
      " 10  Price            10683 non-null  int64         \n",
      "dtypes: datetime64[ns](3), int64(1), object(7)\n",
      "memory usage: 918.2+ KB\n"
     ]
    }
   ],
   "source": [
    "df.info()"
   ]
  },
  {
   "cell_type": "code",
   "execution_count": 154,
   "id": "5ef5a648",
   "metadata": {
    "scrolled": true
   },
   "outputs": [
    {
     "data": {
      "text/html": [
       "<div>\n",
       "<style scoped>\n",
       "    .dataframe tbody tr th:only-of-type {\n",
       "        vertical-align: middle;\n",
       "    }\n",
       "\n",
       "    .dataframe tbody tr th {\n",
       "        vertical-align: top;\n",
       "    }\n",
       "\n",
       "    .dataframe thead th {\n",
       "        text-align: right;\n",
       "    }\n",
       "</style>\n",
       "<table border=\"1\" class=\"dataframe\">\n",
       "  <thead>\n",
       "    <tr style=\"text-align: right;\">\n",
       "      <th></th>\n",
       "      <th>Airline</th>\n",
       "      <th>Date_of_Journey</th>\n",
       "      <th>Source</th>\n",
       "      <th>Destination</th>\n",
       "      <th>Route</th>\n",
       "      <th>Dep_Time</th>\n",
       "      <th>Arrival_Time</th>\n",
       "      <th>Duration</th>\n",
       "      <th>Total_Stops</th>\n",
       "      <th>Additional_Info</th>\n",
       "      <th>Price</th>\n",
       "    </tr>\n",
       "  </thead>\n",
       "  <tbody>\n",
       "    <tr>\n",
       "      <th>0</th>\n",
       "      <td>IndiGo</td>\n",
       "      <td>2019-03-24</td>\n",
       "      <td>Banglore</td>\n",
       "      <td>New Delhi</td>\n",
       "      <td>BLR → DEL</td>\n",
       "      <td>2025-03-15 22:20:00</td>\n",
       "      <td>2025-03-22 01:10:00</td>\n",
       "      <td>2h 50m</td>\n",
       "      <td>non-stop</td>\n",
       "      <td>No info</td>\n",
       "      <td>3897</td>\n",
       "    </tr>\n",
       "    <tr>\n",
       "      <th>1</th>\n",
       "      <td>Air India</td>\n",
       "      <td>2019-01-05</td>\n",
       "      <td>Kolkata</td>\n",
       "      <td>Banglore</td>\n",
       "      <td>CCU → IXR → BBI → BLR</td>\n",
       "      <td>2025-03-15 05:50:00</td>\n",
       "      <td>2025-03-15 13:15:00</td>\n",
       "      <td>7h 25m</td>\n",
       "      <td>2 stops</td>\n",
       "      <td>No info</td>\n",
       "      <td>7662</td>\n",
       "    </tr>\n",
       "  </tbody>\n",
       "</table>\n",
       "</div>"
      ],
      "text/plain": [
       "     Airline Date_of_Journey    Source Destination                  Route  \\\n",
       "0     IndiGo      2019-03-24  Banglore   New Delhi              BLR → DEL   \n",
       "1  Air India      2019-01-05   Kolkata    Banglore  CCU → IXR → BBI → BLR   \n",
       "\n",
       "             Dep_Time        Arrival_Time Duration Total_Stops  \\\n",
       "0 2025-03-15 22:20:00 2025-03-22 01:10:00   2h 50m    non-stop   \n",
       "1 2025-03-15 05:50:00 2025-03-15 13:15:00   7h 25m     2 stops   \n",
       "\n",
       "  Additional_Info  Price  \n",
       "0         No info   3897  \n",
       "1         No info   7662  "
      ]
     },
     "execution_count": 154,
     "metadata": {},
     "output_type": "execute_result"
    }
   ],
   "source": [
    "df.head(2)"
   ]
  },
  {
   "cell_type": "markdown",
   "id": "3e292afa",
   "metadata": {},
   "source": [
    "#Replacing Total_stops into categories"
   ]
  },
  {
   "cell_type": "code",
   "execution_count": 155,
   "id": "df26eef5",
   "metadata": {},
   "outputs": [],
   "source": [
    "df.replace({'non-stop': 0, '1 stop': 1, '2 stops': 2, '3 stops': 3, '4 stops': 4},inplace = True)"
   ]
  },
  {
   "cell_type": "code",
   "execution_count": 156,
   "id": "15d5fff5",
   "metadata": {},
   "outputs": [
    {
     "data": {
      "text/html": [
       "<div>\n",
       "<style scoped>\n",
       "    .dataframe tbody tr th:only-of-type {\n",
       "        vertical-align: middle;\n",
       "    }\n",
       "\n",
       "    .dataframe tbody tr th {\n",
       "        vertical-align: top;\n",
       "    }\n",
       "\n",
       "    .dataframe thead th {\n",
       "        text-align: right;\n",
       "    }\n",
       "</style>\n",
       "<table border=\"1\" class=\"dataframe\">\n",
       "  <thead>\n",
       "    <tr style=\"text-align: right;\">\n",
       "      <th></th>\n",
       "      <th>Airline</th>\n",
       "      <th>Date_of_Journey</th>\n",
       "      <th>Source</th>\n",
       "      <th>Destination</th>\n",
       "      <th>Route</th>\n",
       "      <th>Dep_Time</th>\n",
       "      <th>Arrival_Time</th>\n",
       "      <th>Duration</th>\n",
       "      <th>Total_Stops</th>\n",
       "      <th>Additional_Info</th>\n",
       "      <th>Price</th>\n",
       "    </tr>\n",
       "  </thead>\n",
       "  <tbody>\n",
       "    <tr>\n",
       "      <th>0</th>\n",
       "      <td>IndiGo</td>\n",
       "      <td>2019-03-24</td>\n",
       "      <td>Banglore</td>\n",
       "      <td>New Delhi</td>\n",
       "      <td>BLR → DEL</td>\n",
       "      <td>2025-03-15 22:20:00</td>\n",
       "      <td>2025-03-22 01:10:00</td>\n",
       "      <td>2h 50m</td>\n",
       "      <td>0</td>\n",
       "      <td>No info</td>\n",
       "      <td>3897</td>\n",
       "    </tr>\n",
       "    <tr>\n",
       "      <th>1</th>\n",
       "      <td>Air India</td>\n",
       "      <td>2019-01-05</td>\n",
       "      <td>Kolkata</td>\n",
       "      <td>Banglore</td>\n",
       "      <td>CCU → IXR → BBI → BLR</td>\n",
       "      <td>2025-03-15 05:50:00</td>\n",
       "      <td>2025-03-15 13:15:00</td>\n",
       "      <td>7h 25m</td>\n",
       "      <td>2</td>\n",
       "      <td>No info</td>\n",
       "      <td>7662</td>\n",
       "    </tr>\n",
       "    <tr>\n",
       "      <th>2</th>\n",
       "      <td>Jet Airways</td>\n",
       "      <td>2019-09-06</td>\n",
       "      <td>Delhi</td>\n",
       "      <td>Cochin</td>\n",
       "      <td>DEL → LKO → BOM → COK</td>\n",
       "      <td>2025-03-15 09:25:00</td>\n",
       "      <td>2025-06-10 04:25:00</td>\n",
       "      <td>19h</td>\n",
       "      <td>2</td>\n",
       "      <td>No info</td>\n",
       "      <td>13882</td>\n",
       "    </tr>\n",
       "  </tbody>\n",
       "</table>\n",
       "</div>"
      ],
      "text/plain": [
       "       Airline Date_of_Journey    Source Destination                  Route  \\\n",
       "0       IndiGo      2019-03-24  Banglore   New Delhi              BLR → DEL   \n",
       "1    Air India      2019-01-05   Kolkata    Banglore  CCU → IXR → BBI → BLR   \n",
       "2  Jet Airways      2019-09-06     Delhi      Cochin  DEL → LKO → BOM → COK   \n",
       "\n",
       "             Dep_Time        Arrival_Time Duration  Total_Stops  \\\n",
       "0 2025-03-15 22:20:00 2025-03-22 01:10:00   2h 50m            0   \n",
       "1 2025-03-15 05:50:00 2025-03-15 13:15:00   7h 25m            2   \n",
       "2 2025-03-15 09:25:00 2025-06-10 04:25:00      19h            2   \n",
       "\n",
       "  Additional_Info  Price  \n",
       "0         No info   3897  \n",
       "1         No info   7662  \n",
       "2         No info  13882  "
      ]
     },
     "execution_count": 156,
     "metadata": {},
     "output_type": "execute_result"
    }
   ],
   "source": [
    "df.head(3)"
   ]
  },
  {
   "cell_type": "markdown",
   "id": "0e16d42e",
   "metadata": {},
   "source": [
    "## 1st Insights:Total number of flights with respect to number of  stoppages. "
   ]
  },
  {
   "cell_type": "code",
   "execution_count": 157,
   "id": "90ab2386",
   "metadata": {},
   "outputs": [
    {
     "data": {
      "text/plain": [
       "1    5626\n",
       "0    3491\n",
       "2    1520\n",
       "3      45\n",
       "4       1\n",
       "Name: Total_Stops, dtype: int64"
      ]
     },
     "execution_count": 157,
     "metadata": {},
     "output_type": "execute_result"
    }
   ],
   "source": [
    "df['Total_Stops'].value_counts()"
   ]
  },
  {
   "cell_type": "code",
   "execution_count": 158,
   "id": "9bfe839a",
   "metadata": {},
   "outputs": [],
   "source": [
    "# Graph to represent the no of stoppages with respect to flights"
   ]
  },
  {
   "cell_type": "code",
   "execution_count": 159,
   "id": "969edb1b",
   "metadata": {},
   "outputs": [
    {
     "data": {
      "text/plain": [
       "<function matplotlib.pyplot.show(close=None, block=None)>"
      ]
     },
     "execution_count": 159,
     "metadata": {},
     "output_type": "execute_result"
    },
    {
     "data": {
      "image/png": "[encoded data removed]",
      "text/plain": [
       "<Figure size 432x288 with 1 Axes>"
      ]
     },
     "metadata": {
      "needs_background": "light"
     },
     "output_type": "display_data"
    }
   ],
   "source": [
    "plt.title('No. of flights Stopage')\n",
    "plt.hist(df['Total_Stops'],color='orange')\n",
    "plt.xlabel('Stopages')\n",
    "plt.ylabel('No.of Flights')\n",
    "plt.xticks (df['Total_Stops'].unique())\n",
    "plt.show"
   ]
  },
  {
   "cell_type": "markdown",
   "id": "1e70fe60",
   "metadata": {},
   "source": [
    "## Number of Stops per  Airline Company "
   ]
  },
  {
   "cell_type": "code",
   "execution_count": 172,
   "id": "d336f2d5",
   "metadata": {},
   "outputs": [
    {
     "data": {
      "image/png": "[encoded data removed]",
      "text/plain": [
       "<Figure size 720x504 with 1 Axes>"
      ]
     },
     "metadata": {
      "needs_background": "light"
     },
     "output_type": "display_data"
    }
   ],
   "source": [
    "plt.figure(figsize=(10,7))\n",
    "plt.bar(df['Airline'],df['Total_Stops'])\n",
    "plt.xlabel('Airlines')\n",
    "plt.ylabel('Total Stopages')\n",
    "plt.xticks(rotation=90)\n",
    "plt.show()"
   ]
  },
  {
   "cell_type": "code",
   "execution_count": 161,
   "id": "25f29bff",
   "metadata": {},
   "outputs": [
    {
     "data": {
      "text/plain": [
       "array(['IndiGo', 'Air India', 'Jet Airways', 'SpiceJet',\n",
       "       'Multiple carriers', 'GoAir', 'Vistara', 'Air Asia',\n",
       "       'Vistara Premium economy', 'Jet Airways Business',\n",
       "       'Multiple carriers Premium economy', 'Trujet'], dtype=object)"
      ]
     },
     "execution_count": 161,
     "metadata": {},
     "output_type": "execute_result"
    }
   ],
   "source": [
    "df['Airline'].unique()"
   ]
  },
  {
   "cell_type": "code",
   "execution_count": 162,
   "id": "55557ce2",
   "metadata": {},
   "outputs": [
    {
     "data": {
      "text/html": [
       "<div>\n",
       "<style scoped>\n",
       "    .dataframe tbody tr th:only-of-type {\n",
       "        vertical-align: middle;\n",
       "    }\n",
       "\n",
       "    .dataframe tbody tr th {\n",
       "        vertical-align: top;\n",
       "    }\n",
       "\n",
       "    .dataframe thead th {\n",
       "        text-align: right;\n",
       "    }\n",
       "</style>\n",
       "<table border=\"1\" class=\"dataframe\">\n",
       "  <thead>\n",
       "    <tr style=\"text-align: right;\">\n",
       "      <th></th>\n",
       "      <th>Airline</th>\n",
       "      <th>Date_of_Journey</th>\n",
       "      <th>Source</th>\n",
       "      <th>Destination</th>\n",
       "      <th>Route</th>\n",
       "      <th>Dep_Time</th>\n",
       "      <th>Arrival_Time</th>\n",
       "      <th>Duration</th>\n",
       "      <th>Total_Stops</th>\n",
       "      <th>Additional_Info</th>\n",
       "      <th>Price</th>\n",
       "    </tr>\n",
       "  </thead>\n",
       "  <tbody>\n",
       "    <tr>\n",
       "      <th>9182</th>\n",
       "      <td>Air India</td>\n",
       "      <td>2019-01-03</td>\n",
       "      <td>Banglore</td>\n",
       "      <td>New Delhi</td>\n",
       "      <td>BLR → CCU → BBI → HYD → VGA → DEL</td>\n",
       "      <td>2025-03-15 05:50:00</td>\n",
       "      <td>2025-03-02 11:20:00</td>\n",
       "      <td>29h 30m</td>\n",
       "      <td>4</td>\n",
       "      <td>Change airports</td>\n",
       "      <td>17686</td>\n",
       "    </tr>\n",
       "  </tbody>\n",
       "</table>\n",
       "</div>"
      ],
      "text/plain": [
       "        Airline Date_of_Journey    Source Destination  \\\n",
       "9182  Air India      2019-01-03  Banglore   New Delhi   \n",
       "\n",
       "                                  Route            Dep_Time  \\\n",
       "9182  BLR → CCU → BBI → HYD → VGA → DEL 2025-03-15 05:50:00   \n",
       "\n",
       "            Arrival_Time Duration  Total_Stops  Additional_Info  Price  \n",
       "9182 2025-03-02 11:20:00  29h 30m            4  Change airports  17686  "
      ]
     },
     "execution_count": 162,
     "metadata": {},
     "output_type": "execute_result"
    }
   ],
   "source": [
    "df[df['Total_Stops']==4]"
   ]
  },
  {
   "cell_type": "code",
   "execution_count": 163,
   "id": "7ffea465",
   "metadata": {},
   "outputs": [
    {
     "data": {
      "text/html": [
       "<div>\n",
       "<style scoped>\n",
       "    .dataframe tbody tr th:only-of-type {\n",
       "        vertical-align: middle;\n",
       "    }\n",
       "\n",
       "    .dataframe tbody tr th {\n",
       "        vertical-align: top;\n",
       "    }\n",
       "\n",
       "    .dataframe thead th {\n",
       "        text-align: right;\n",
       "    }\n",
       "</style>\n",
       "<table border=\"1\" class=\"dataframe\">\n",
       "  <thead>\n",
       "    <tr style=\"text-align: right;\">\n",
       "      <th></th>\n",
       "      <th>Airline</th>\n",
       "      <th>Date_of_Journey</th>\n",
       "      <th>Source</th>\n",
       "      <th>Destination</th>\n",
       "      <th>Route</th>\n",
       "      <th>Dep_Time</th>\n",
       "      <th>Arrival_Time</th>\n",
       "      <th>Duration</th>\n",
       "      <th>Total_Stops</th>\n",
       "      <th>Additional_Info</th>\n",
       "      <th>Price</th>\n",
       "    </tr>\n",
       "  </thead>\n",
       "  <tbody>\n",
       "    <tr>\n",
       "      <th>426</th>\n",
       "      <td>Vistara Premium economy</td>\n",
       "      <td>2019-03-03</td>\n",
       "      <td>Banglore</td>\n",
       "      <td>New Delhi</td>\n",
       "      <td>BLR → DEL</td>\n",
       "      <td>2025-03-15 16:00:00</td>\n",
       "      <td>2025-03-15 18:35:00</td>\n",
       "      <td>2h 35m</td>\n",
       "      <td>0</td>\n",
       "      <td>No info</td>\n",
       "      <td>11793</td>\n",
       "    </tr>\n",
       "    <tr>\n",
       "      <th>7657</th>\n",
       "      <td>Vistara Premium economy</td>\n",
       "      <td>2019-01-03</td>\n",
       "      <td>Chennai</td>\n",
       "      <td>Kolkata</td>\n",
       "      <td>MAA → CCU</td>\n",
       "      <td>2025-03-15 07:05:00</td>\n",
       "      <td>2025-03-15 09:20:00</td>\n",
       "      <td>2h 15m</td>\n",
       "      <td>0</td>\n",
       "      <td>No info</td>\n",
       "      <td>9125</td>\n",
       "    </tr>\n",
       "    <tr>\n",
       "      <th>8615</th>\n",
       "      <td>Vistara Premium economy</td>\n",
       "      <td>2019-06-04</td>\n",
       "      <td>Banglore</td>\n",
       "      <td>Delhi</td>\n",
       "      <td>BLR → DEL</td>\n",
       "      <td>2025-03-15 11:30:00</td>\n",
       "      <td>2025-03-15 14:20:00</td>\n",
       "      <td>2h 50m</td>\n",
       "      <td>0</td>\n",
       "      <td>No info</td>\n",
       "      <td>5969</td>\n",
       "    </tr>\n",
       "  </tbody>\n",
       "</table>\n",
       "</div>"
      ],
      "text/plain": [
       "                      Airline Date_of_Journey    Source Destination  \\\n",
       "426   Vistara Premium economy      2019-03-03  Banglore   New Delhi   \n",
       "7657  Vistara Premium economy      2019-01-03   Chennai     Kolkata   \n",
       "8615  Vistara Premium economy      2019-06-04  Banglore       Delhi   \n",
       "\n",
       "          Route            Dep_Time        Arrival_Time Duration  Total_Stops  \\\n",
       "426   BLR → DEL 2025-03-15 16:00:00 2025-03-15 18:35:00   2h 35m            0   \n",
       "7657  MAA → CCU 2025-03-15 07:05:00 2025-03-15 09:20:00   2h 15m            0   \n",
       "8615  BLR → DEL 2025-03-15 11:30:00 2025-03-15 14:20:00   2h 50m            0   \n",
       "\n",
       "     Additional_Info  Price  \n",
       "426          No info  11793  \n",
       "7657         No info   9125  \n",
       "8615         No info   5969  "
      ]
     },
     "execution_count": 163,
     "metadata": {},
     "output_type": "execute_result"
    }
   ],
   "source": [
    "df[df['Airline']=='Vistara Premium economy']"
   ]
  },
  {
   "cell_type": "markdown",
   "id": "2e3270e1",
   "metadata": {},
   "source": [
    "# Which is the most expensive flight and cheapest flight"
   ]
  },
  {
   "cell_type": "code",
   "execution_count": 164,
   "id": "252fe1e2",
   "metadata": {},
   "outputs": [
    {
     "data": {
      "text/html": [
       "<div>\n",
       "<style scoped>\n",
       "    .dataframe tbody tr th:only-of-type {\n",
       "        vertical-align: middle;\n",
       "    }\n",
       "\n",
       "    .dataframe tbody tr th {\n",
       "        vertical-align: top;\n",
       "    }\n",
       "\n",
       "    .dataframe thead th {\n",
       "        text-align: right;\n",
       "    }\n",
       "</style>\n",
       "<table border=\"1\" class=\"dataframe\">\n",
       "  <thead>\n",
       "    <tr style=\"text-align: right;\">\n",
       "      <th></th>\n",
       "      <th>Airline</th>\n",
       "      <th>sum</th>\n",
       "      <th>max</th>\n",
       "    </tr>\n",
       "  </thead>\n",
       "  <tbody>\n",
       "    <tr>\n",
       "      <th>4</th>\n",
       "      <td>Jet Airways</td>\n",
       "      <td>44817461</td>\n",
       "      <td>54826</td>\n",
       "    </tr>\n",
       "    <tr>\n",
       "      <th>1</th>\n",
       "      <td>Air India</td>\n",
       "      <td>16838841</td>\n",
       "      <td>31945</td>\n",
       "    </tr>\n",
       "    <tr>\n",
       "      <th>6</th>\n",
       "      <td>Multiple carriers</td>\n",
       "      <td>13039603</td>\n",
       "      <td>36983</td>\n",
       "    </tr>\n",
       "    <tr>\n",
       "      <th>3</th>\n",
       "      <td>IndiGo</td>\n",
       "      <td>11648071</td>\n",
       "      <td>22153</td>\n",
       "    </tr>\n",
       "    <tr>\n",
       "      <th>10</th>\n",
       "      <td>Vistara</td>\n",
       "      <td>3734451</td>\n",
       "      <td>21730</td>\n",
       "    </tr>\n",
       "    <tr>\n",
       "      <th>8</th>\n",
       "      <td>SpiceJet</td>\n",
       "      <td>3548717</td>\n",
       "      <td>23267</td>\n",
       "    </tr>\n",
       "    <tr>\n",
       "      <th>0</th>\n",
       "      <td>Air Asia</td>\n",
       "      <td>1783293</td>\n",
       "      <td>13774</td>\n",
       "    </tr>\n",
       "    <tr>\n",
       "      <th>2</th>\n",
       "      <td>GoAir</td>\n",
       "      <td>1137045</td>\n",
       "      <td>22794</td>\n",
       "    </tr>\n",
       "    <tr>\n",
       "      <th>5</th>\n",
       "      <td>Jet Airways Business</td>\n",
       "      <td>350152</td>\n",
       "      <td>79512</td>\n",
       "    </tr>\n",
       "    <tr>\n",
       "      <th>7</th>\n",
       "      <td>Multiple carriers Premium economy</td>\n",
       "      <td>148445</td>\n",
       "      <td>14629</td>\n",
       "    </tr>\n",
       "    <tr>\n",
       "      <th>11</th>\n",
       "      <td>Vistara Premium economy</td>\n",
       "      <td>26887</td>\n",
       "      <td>11793</td>\n",
       "    </tr>\n",
       "    <tr>\n",
       "      <th>9</th>\n",
       "      <td>Trujet</td>\n",
       "      <td>4140</td>\n",
       "      <td>4140</td>\n",
       "    </tr>\n",
       "  </tbody>\n",
       "</table>\n",
       "</div>"
      ],
      "text/plain": [
       "                              Airline       sum    max\n",
       "4                         Jet Airways  44817461  54826\n",
       "1                           Air India  16838841  31945\n",
       "6                   Multiple carriers  13039603  36983\n",
       "3                              IndiGo  11648071  22153\n",
       "10                            Vistara   3734451  21730\n",
       "8                            SpiceJet   3548717  23267\n",
       "0                            Air Asia   1783293  13774\n",
       "2                               GoAir   1137045  22794\n",
       "5                Jet Airways Business    350152  79512\n",
       "7   Multiple carriers Premium economy    148445  14629\n",
       "11            Vistara Premium economy     26887  11793\n",
       "9                              Trujet      4140   4140"
      ]
     },
     "execution_count": 164,
     "metadata": {},
     "output_type": "execute_result"
    }
   ],
   "source": [
    "a= df.groupby(['Airline'])['Price'].agg(['sum','max']).reset_index().sort_values(by='sum',ascending=False)\n",
    "a"
   ]
  },
  {
   "cell_type": "code",
   "execution_count": 165,
   "id": "8cce0063",
   "metadata": {},
   "outputs": [
    {
     "data": {
      "image/png": "[encoded data removed]",
      "text/plain": [
       "<Figure size 864x432 with 2 Axes>"
      ]
     },
     "metadata": {
      "needs_background": "light"
     },
     "output_type": "display_data"
    }
   ],
   "source": [
    "plt.figure(figsize=(12,6))\n",
    "plt.subplot(1,2,1)\n",
    "plt.bar(a['Airline'],a['sum'],label='overall profit')\n",
    "plt.xticks(rotation=90)\n",
    "plt.legend()\n",
    "\n",
    "\n",
    "plt.subplot(1,2,2)\n",
    "plt.bar(a['Airline'],a['max'],label='expensive & cheap')\n",
    "plt.xticks(rotation=90)\n",
    "plt.legend()\n",
    "plt.show()"
   ]
  },
  {
   "cell_type": "markdown",
   "id": "77a2682a",
   "metadata": {},
   "source": [
    "## Variation in flight price from scource of Airline"
   ]
  },
  {
   "cell_type": "code",
   "execution_count": 166,
   "id": "b9d2ec7a",
   "metadata": {},
   "outputs": [
    {
     "data": {
      "text/plain": [
       "array(['New Delhi', 'Banglore', 'Cochin', 'Kolkata', 'Delhi', 'Hyderabad'],\n",
       "      dtype=object)"
      ]
     },
     "execution_count": 166,
     "metadata": {},
     "output_type": "execute_result"
    }
   ],
   "source": [
    "df['Destination'].unique()"
   ]
  },
  {
   "cell_type": "code",
   "execution_count": 167,
   "id": "6d724fe4",
   "metadata": {},
   "outputs": [],
   "source": [
    "df.replace({'New Delhi' : 'Delhi'}, inplace= True)"
   ]
  },
  {
   "cell_type": "code",
   "execution_count": 168,
   "id": "e8e0190d",
   "metadata": {},
   "outputs": [
    {
     "data": {
      "text/plain": [
       "array(['Delhi', 'Banglore', 'Cochin', 'Kolkata', 'Hyderabad'],\n",
       "      dtype=object)"
      ]
     },
     "execution_count": 168,
     "metadata": {},
     "output_type": "execute_result"
    }
   ],
   "source": [
    "df['Destination'].unique()"
   ]
  },
  {
   "cell_type": "code",
   "execution_count": 173,
   "id": "a781c3d8",
   "metadata": {},
   "outputs": [
    {
     "data": {
      "text/html": [
       "<div>\n",
       "<style scoped>\n",
       "    .dataframe tbody tr th:only-of-type {\n",
       "        vertical-align: middle;\n",
       "    }\n",
       "\n",
       "    .dataframe tbody tr th {\n",
       "        vertical-align: top;\n",
       "    }\n",
       "\n",
       "    .dataframe thead th {\n",
       "        text-align: right;\n",
       "    }\n",
       "</style>\n",
       "<table border=\"1\" class=\"dataframe\">\n",
       "  <thead>\n",
       "    <tr style=\"text-align: right;\">\n",
       "      <th></th>\n",
       "      <th>Source</th>\n",
       "      <th>Destination</th>\n",
       "      <th>Price</th>\n",
       "    </tr>\n",
       "  </thead>\n",
       "  <tbody>\n",
       "    <tr>\n",
       "      <th>0</th>\n",
       "      <td>Banglore</td>\n",
       "      <td>Delhi</td>\n",
       "      <td>17614369</td>\n",
       "    </tr>\n",
       "    <tr>\n",
       "      <th>1</th>\n",
       "      <td>Chennai</td>\n",
       "      <td>Kolkata</td>\n",
       "      <td>1824949</td>\n",
       "    </tr>\n",
       "    <tr>\n",
       "      <th>2</th>\n",
       "      <td>Delhi</td>\n",
       "      <td>Cochin</td>\n",
       "      <td>47817435</td>\n",
       "    </tr>\n",
       "    <tr>\n",
       "      <th>3</th>\n",
       "      <td>Kolkata</td>\n",
       "      <td>Banglore</td>\n",
       "      <td>26293736</td>\n",
       "    </tr>\n",
       "    <tr>\n",
       "      <th>4</th>\n",
       "      <td>Mumbai</td>\n",
       "      <td>Hyderabad</td>\n",
       "      <td>3526617</td>\n",
       "    </tr>\n",
       "  </tbody>\n",
       "</table>\n",
       "</div>"
      ],
      "text/plain": [
       "     Source Destination     Price\n",
       "0  Banglore       Delhi  17614369\n",
       "1   Chennai     Kolkata   1824949\n",
       "2     Delhi      Cochin  47817435\n",
       "3   Kolkata    Banglore  26293736\n",
       "4    Mumbai   Hyderabad   3526617"
      ]
     },
     "execution_count": 173,
     "metadata": {},
     "output_type": "execute_result"
    }
   ],
   "source": [
    "i=df.groupby(['Source','Destination']) ['Price'].sum().reset_index()\n",
    "i"
   ]
  },
  {
   "cell_type": "code",
   "execution_count": 170,
   "id": "ca8ba529",
   "metadata": {},
   "outputs": [],
   "source": [
    "import seaborn as sns"
   ]
  },
  {
   "cell_type": "code",
   "execution_count": 197,
   "id": "dee98826",
   "metadata": {},
   "outputs": [
    {
     "data": {
      "image/png": "[encoded data removed]",
      "text/plain": [
       "<Figure size 720x432 with 1 Axes>"
      ]
     },
     "metadata": {
      "needs_background": "light"
     },
     "output_type": "display_data"
    }
   ],
   "source": [
    "plt.figure(figsize=(10,6))\n",
    "sns.barplot(x='Source', y= 'Price', hue='Destination', data=sd)\n",
    "plt.xticks(rotation=90,size= 10)\n",
    "plt.title('Variation of Prices By source')\n",
    "plt.show()"
   ]
  },
  {
   "cell_type": "code",
   "execution_count": 175,
   "id": "5eade708",
   "metadata": {},
   "outputs": [
    {
     "data": {
      "text/plain": [
       "array(['2019-03-24T00:00:00.000000000', '2019-01-05T00:00:00.000000000',\n",
       "       '2019-09-06T00:00:00.000000000', '2019-12-05T00:00:00.000000000',\n",
       "       '2019-01-03T00:00:00.000000000', '2019-06-24T00:00:00.000000000',\n",
       "       '2019-12-03T00:00:00.000000000', '2019-05-27T00:00:00.000000000',\n",
       "       '2019-01-06T00:00:00.000000000', '2019-04-18T00:00:00.000000000',\n",
       "       '2019-09-05T00:00:00.000000000', '2019-04-24T00:00:00.000000000',\n",
       "       '2019-03-03T00:00:00.000000000', '2019-04-15T00:00:00.000000000',\n",
       "       '2019-12-06T00:00:00.000000000', '2019-06-03T00:00:00.000000000',\n",
       "       '2019-03-21T00:00:00.000000000', '2019-03-04T00:00:00.000000000',\n",
       "       '2019-06-05T00:00:00.000000000', '2019-05-15T00:00:00.000000000',\n",
       "       '2019-06-18T00:00:00.000000000', '2019-06-15T00:00:00.000000000',\n",
       "       '2019-06-04T00:00:00.000000000', '2019-05-18T00:00:00.000000000',\n",
       "       '2019-06-27T00:00:00.000000000', '2019-05-21T00:00:00.000000000',\n",
       "       '2019-03-06T00:00:00.000000000', '2019-03-15T00:00:00.000000000',\n",
       "       '2019-03-05T00:00:00.000000000', '2019-09-03T00:00:00.000000000',\n",
       "       '2019-06-06T00:00:00.000000000', '2019-05-24T00:00:00.000000000',\n",
       "       '2019-01-04T00:00:00.000000000', '2019-04-21T00:00:00.000000000',\n",
       "       '2019-06-21T00:00:00.000000000', '2019-03-27T00:00:00.000000000',\n",
       "       '2019-03-18T00:00:00.000000000', '2019-12-04T00:00:00.000000000',\n",
       "       '2019-09-04T00:00:00.000000000', '2019-04-27T00:00:00.000000000'],\n",
       "      dtype='datetime64[ns]')"
      ]
     },
     "execution_count": 175,
     "metadata": {},
     "output_type": "execute_result"
    }
   ],
   "source": [
    "df['Date_of_Journey'].unique()"
   ]
  },
  {
   "cell_type": "markdown",
   "id": "75ae9310",
   "metadata": {},
   "source": [
    "## Extracting Journey Day and Month"
   ]
  },
  {
   "cell_type": "code",
   "execution_count": 210,
   "id": "663970bc",
   "metadata": {},
   "outputs": [],
   "source": [
    "df['Day_of_Journey']=df['Date_of_Journey'].dt.day\n",
    "df['Month_of_Journey']=df['Date_of_Journey'].dt.month\n",
    "\n"
   ]
  },
  {
   "cell_type": "code",
   "execution_count": 211,
   "id": "b18d0497",
   "metadata": {},
   "outputs": [
    {
     "data": {
      "text/html": [
       "<div>\n",
       "<style scoped>\n",
       "    .dataframe tbody tr th:only-of-type {\n",
       "        vertical-align: middle;\n",
       "    }\n",
       "\n",
       "    .dataframe tbody tr th {\n",
       "        vertical-align: top;\n",
       "    }\n",
       "\n",
       "    .dataframe thead th {\n",
       "        text-align: right;\n",
       "    }\n",
       "</style>\n",
       "<table border=\"1\" class=\"dataframe\">\n",
       "  <thead>\n",
       "    <tr style=\"text-align: right;\">\n",
       "      <th></th>\n",
       "      <th>Airline</th>\n",
       "      <th>Date_of_Journey</th>\n",
       "      <th>Source</th>\n",
       "      <th>Destination</th>\n",
       "      <th>Route</th>\n",
       "      <th>Dep_Time</th>\n",
       "      <th>Arrival_Time</th>\n",
       "      <th>Duration</th>\n",
       "      <th>Total_Stops</th>\n",
       "      <th>Additional_Info</th>\n",
       "      <th>Price</th>\n",
       "      <th>Day_of_Journey</th>\n",
       "      <th>Month_of_Journey</th>\n",
       "    </tr>\n",
       "  </thead>\n",
       "  <tbody>\n",
       "    <tr>\n",
       "      <th>0</th>\n",
       "      <td>IndiGo</td>\n",
       "      <td>2019-03-24</td>\n",
       "      <td>Banglore</td>\n",
       "      <td>Delhi</td>\n",
       "      <td>BLR → DEL</td>\n",
       "      <td>2025-03-15 22:20:00</td>\n",
       "      <td>2025-03-22 01:10:00</td>\n",
       "      <td>2h 50m</td>\n",
       "      <td>0</td>\n",
       "      <td>No info</td>\n",
       "      <td>3897</td>\n",
       "      <td>24</td>\n",
       "      <td>3</td>\n",
       "    </tr>\n",
       "    <tr>\n",
       "      <th>1</th>\n",
       "      <td>Air India</td>\n",
       "      <td>2019-01-05</td>\n",
       "      <td>Kolkata</td>\n",
       "      <td>Banglore</td>\n",
       "      <td>CCU → IXR → BBI → BLR</td>\n",
       "      <td>2025-03-15 05:50:00</td>\n",
       "      <td>2025-03-15 13:15:00</td>\n",
       "      <td>7h 25m</td>\n",
       "      <td>2</td>\n",
       "      <td>No info</td>\n",
       "      <td>7662</td>\n",
       "      <td>5</td>\n",
       "      <td>1</td>\n",
       "    </tr>\n",
       "    <tr>\n",
       "      <th>2</th>\n",
       "      <td>Jet Airways</td>\n",
       "      <td>2019-09-06</td>\n",
       "      <td>Delhi</td>\n",
       "      <td>Cochin</td>\n",
       "      <td>DEL → LKO → BOM → COK</td>\n",
       "      <td>2025-03-15 09:25:00</td>\n",
       "      <td>2025-06-10 04:25:00</td>\n",
       "      <td>19h</td>\n",
       "      <td>2</td>\n",
       "      <td>No info</td>\n",
       "      <td>13882</td>\n",
       "      <td>6</td>\n",
       "      <td>9</td>\n",
       "    </tr>\n",
       "  </tbody>\n",
       "</table>\n",
       "</div>"
      ],
      "text/plain": [
       "       Airline Date_of_Journey    Source Destination                  Route  \\\n",
       "0       IndiGo      2019-03-24  Banglore       Delhi              BLR → DEL   \n",
       "1    Air India      2019-01-05   Kolkata    Banglore  CCU → IXR → BBI → BLR   \n",
       "2  Jet Airways      2019-09-06     Delhi      Cochin  DEL → LKO → BOM → COK   \n",
       "\n",
       "             Dep_Time        Arrival_Time Duration  Total_Stops  \\\n",
       "0 2025-03-15 22:20:00 2025-03-22 01:10:00   2h 50m            0   \n",
       "1 2025-03-15 05:50:00 2025-03-15 13:15:00   7h 25m            2   \n",
       "2 2025-03-15 09:25:00 2025-06-10 04:25:00      19h            2   \n",
       "\n",
       "  Additional_Info  Price  Day_of_Journey  Month_of_Journey  \n",
       "0         No info   3897              24                 3  \n",
       "1         No info   7662               5                 1  \n",
       "2         No info  13882               6                 9  "
      ]
     },
     "execution_count": 211,
     "metadata": {},
     "output_type": "execute_result"
    }
   ],
   "source": [
    "df.head(3)\n"
   ]
  },
  {
   "cell_type": "code",
   "execution_count": 212,
   "id": "8013b640",
   "metadata": {},
   "outputs": [],
   "source": [
    "# Since we have converted Date_of_Journey column into integers, Now we can drop as it is of no use.\n",
    "df.drop(columns=['Date_of_Journey'],inplace=True)"
   ]
  },
  {
   "cell_type": "code",
   "execution_count": 213,
   "id": "eb2dbf57",
   "metadata": {},
   "outputs": [
    {
     "data": {
      "text/html": [
       "<div>\n",
       "<style scoped>\n",
       "    .dataframe tbody tr th:only-of-type {\n",
       "        vertical-align: middle;\n",
       "    }\n",
       "\n",
       "    .dataframe tbody tr th {\n",
       "        vertical-align: top;\n",
       "    }\n",
       "\n",
       "    .dataframe thead th {\n",
       "        text-align: right;\n",
       "    }\n",
       "</style>\n",
       "<table border=\"1\" class=\"dataframe\">\n",
       "  <thead>\n",
       "    <tr style=\"text-align: right;\">\n",
       "      <th></th>\n",
       "      <th>Airline</th>\n",
       "      <th>Source</th>\n",
       "      <th>Destination</th>\n",
       "      <th>Route</th>\n",
       "      <th>Dep_Time</th>\n",
       "      <th>Arrival_Time</th>\n",
       "      <th>Duration</th>\n",
       "      <th>Total_Stops</th>\n",
       "      <th>Additional_Info</th>\n",
       "      <th>Price</th>\n",
       "      <th>Day_of_Journey</th>\n",
       "      <th>Month_of_Journey</th>\n",
       "    </tr>\n",
       "  </thead>\n",
       "  <tbody>\n",
       "    <tr>\n",
       "      <th>0</th>\n",
       "      <td>IndiGo</td>\n",
       "      <td>Banglore</td>\n",
       "      <td>Delhi</td>\n",
       "      <td>BLR → DEL</td>\n",
       "      <td>2025-03-15 22:20:00</td>\n",
       "      <td>2025-03-22 01:10:00</td>\n",
       "      <td>2h 50m</td>\n",
       "      <td>0</td>\n",
       "      <td>No info</td>\n",
       "      <td>3897</td>\n",
       "      <td>24</td>\n",
       "      <td>3</td>\n",
       "    </tr>\n",
       "    <tr>\n",
       "      <th>1</th>\n",
       "      <td>Air India</td>\n",
       "      <td>Kolkata</td>\n",
       "      <td>Banglore</td>\n",
       "      <td>CCU → IXR → BBI → BLR</td>\n",
       "      <td>2025-03-15 05:50:00</td>\n",
       "      <td>2025-03-15 13:15:00</td>\n",
       "      <td>7h 25m</td>\n",
       "      <td>2</td>\n",
       "      <td>No info</td>\n",
       "      <td>7662</td>\n",
       "      <td>5</td>\n",
       "      <td>1</td>\n",
       "    </tr>\n",
       "  </tbody>\n",
       "</table>\n",
       "</div>"
      ],
      "text/plain": [
       "     Airline    Source Destination                  Route            Dep_Time  \\\n",
       "0     IndiGo  Banglore       Delhi              BLR → DEL 2025-03-15 22:20:00   \n",
       "1  Air India   Kolkata    Banglore  CCU → IXR → BBI → BLR 2025-03-15 05:50:00   \n",
       "\n",
       "         Arrival_Time Duration  Total_Stops Additional_Info  Price  \\\n",
       "0 2025-03-22 01:10:00   2h 50m            0         No info   3897   \n",
       "1 2025-03-15 13:15:00   7h 25m            2         No info   7662   \n",
       "\n",
       "   Day_of_Journey  Month_of_Journey  \n",
       "0              24                 3  \n",
       "1               5                 1  "
      ]
     },
     "execution_count": 213,
     "metadata": {},
     "output_type": "execute_result"
    }
   ],
   "source": [
    "df.head(2)"
   ]
  },
  {
   "cell_type": "markdown",
   "id": "2abb9556",
   "metadata": {},
   "source": [
    "### Which Month has maximum Flights"
   ]
  },
  {
   "cell_type": "code",
   "execution_count": 183,
   "id": "0ae058f3",
   "metadata": {},
   "outputs": [
    {
     "data": {
      "image/png": "[encoded data removed]",
      "text/plain": [
       "<Figure size 576x576 with 1 Axes>"
      ]
     },
     "metadata": {
      "needs_background": "light"
     },
     "output_type": "display_data"
    }
   ],
   "source": [
    "plt.figure(figsize=(8,8))\n",
    "month=list(df['Month_of_Journey'])\n",
    "airline=list(df['Airline'])\n",
    "plt.scatter(airline,month,marker='p',color='k')\n",
    "plt.xticks(rotation=90)\n",
    "plt.yticks(df['Month_of_Journey'].unique())\n",
    "plt.title('Month Have Maximum Flights Take off')\n",
    "plt.xlabel('Airlines')\n",
    "plt.ylabel('Month')\n",
    "plt.show()"
   ]
  },
  {
   "cell_type": "code",
   "execution_count": 184,
   "id": "194ce13f",
   "metadata": {},
   "outputs": [
    {
     "data": {
      "text/html": [
       "<div>\n",
       "<style scoped>\n",
       "    .dataframe tbody tr th:only-of-type {\n",
       "        vertical-align: middle;\n",
       "    }\n",
       "\n",
       "    .dataframe tbody tr th {\n",
       "        vertical-align: top;\n",
       "    }\n",
       "\n",
       "    .dataframe thead th {\n",
       "        text-align: right;\n",
       "    }\n",
       "</style>\n",
       "<table border=\"1\" class=\"dataframe\">\n",
       "  <thead>\n",
       "    <tr style=\"text-align: right;\">\n",
       "      <th></th>\n",
       "      <th>Airline</th>\n",
       "      <th>Date_of_Journey</th>\n",
       "      <th>Source</th>\n",
       "      <th>Destination</th>\n",
       "      <th>Route</th>\n",
       "      <th>Dep_Time</th>\n",
       "      <th>Arrival_Time</th>\n",
       "      <th>Duration</th>\n",
       "      <th>Total_Stops</th>\n",
       "      <th>Additional_Info</th>\n",
       "      <th>Price</th>\n",
       "      <th>Day_of_Journey</th>\n",
       "      <th>Month_of_Journey</th>\n",
       "    </tr>\n",
       "  </thead>\n",
       "  <tbody>\n",
       "  </tbody>\n",
       "</table>\n",
       "</div>"
      ],
      "text/plain": [
       "Empty DataFrame\n",
       "Columns: [Airline, Date_of_Journey, Source, Destination, Route, Dep_Time, Arrival_Time, Duration, Total_Stops, Additional_Info, Price, Day_of_Journey, Month_of_Journey]\n",
       "Index: []"
      ]
     },
     "execution_count": 184,
     "metadata": {},
     "output_type": "execute_result"
    }
   ],
   "source": [
    "df[df['Month_of_Journey']==10]"
   ]
  },
  {
   "cell_type": "markdown",
   "id": "fddac1f2",
   "metadata": {},
   "source": [
    "### Which month has the maximum earning"
   ]
  },
  {
   "cell_type": "code",
   "execution_count": 186,
   "id": "deb8dae4",
   "metadata": {},
   "outputs": [
    {
     "data": {
      "text/html": [
       "<div>\n",
       "<style scoped>\n",
       "    .dataframe tbody tr th:only-of-type {\n",
       "        vertical-align: middle;\n",
       "    }\n",
       "\n",
       "    .dataframe tbody tr th {\n",
       "        vertical-align: top;\n",
       "    }\n",
       "\n",
       "    .dataframe thead th {\n",
       "        text-align: right;\n",
       "    }\n",
       "</style>\n",
       "<table border=\"1\" class=\"dataframe\">\n",
       "  <thead>\n",
       "    <tr style=\"text-align: right;\">\n",
       "      <th></th>\n",
       "      <th>Month_of_Journey</th>\n",
       "      <th>sum</th>\n",
       "    </tr>\n",
       "  </thead>\n",
       "  <tbody>\n",
       "    <tr>\n",
       "      <th>0</th>\n",
       "      <td>1</td>\n",
       "      <td>11279591</td>\n",
       "    </tr>\n",
       "    <tr>\n",
       "      <th>1</th>\n",
       "      <td>3</td>\n",
       "      <td>18647220</td>\n",
       "    </tr>\n",
       "    <tr>\n",
       "      <th>2</th>\n",
       "      <td>4</td>\n",
       "      <td>2217885</td>\n",
       "    </tr>\n",
       "    <tr>\n",
       "      <th>3</th>\n",
       "      <td>5</td>\n",
       "      <td>19414875</td>\n",
       "    </tr>\n",
       "    <tr>\n",
       "      <th>4</th>\n",
       "      <td>6</td>\n",
       "      <td>23369151</td>\n",
       "    </tr>\n",
       "    <tr>\n",
       "      <th>5</th>\n",
       "      <td>9</td>\n",
       "      <td>13429373</td>\n",
       "    </tr>\n",
       "    <tr>\n",
       "      <th>6</th>\n",
       "      <td>12</td>\n",
       "      <td>8719011</td>\n",
       "    </tr>\n",
       "  </tbody>\n",
       "</table>\n",
       "</div>"
      ],
      "text/plain": [
       "   Month_of_Journey       sum\n",
       "0                 1  11279591\n",
       "1                 3  18647220\n",
       "2                 4   2217885\n",
       "3                 5  19414875\n",
       "4                 6  23369151\n",
       "5                 9  13429373\n",
       "6                12   8719011"
      ]
     },
     "execution_count": 186,
     "metadata": {},
     "output_type": "execute_result"
    }
   ],
   "source": [
    "p=df.groupby(['Month_of_Journey'])['Price'].agg(['sum']).reset_index()\n",
    "p"
   ]
  },
  {
   "cell_type": "code",
   "execution_count": 187,
   "id": "bf2c0d5c",
   "metadata": {},
   "outputs": [
    {
     "data": {
      "image/png": "[encoded data removed]",
      "text/plain": [
       "<Figure size 432x288 with 1 Axes>"
      ]
     },
     "metadata": {
      "needs_background": "light"
     },
     "output_type": "display_data"
    }
   ],
   "source": [
    "plt.bar(p['Month_of_Journey'],p['sum']);"
   ]
  },
  {
   "cell_type": "code",
   "execution_count": 188,
   "id": "7da18475",
   "metadata": {},
   "outputs": [
    {
     "data": {
      "text/plain": [
       "[11279591, 18647220, 2217885, 19414875, 23369151, 13429373, 8719011]"
      ]
     },
     "execution_count": 188,
     "metadata": {},
     "output_type": "execute_result"
    }
   ],
   "source": [
    "#prices\n",
    "z=df.groupby(['Month_of_Journey'])['Price'].agg(['sum']).iloc[:,0]\n",
    "z=list(z)\n",
    "z"
   ]
  },
  {
   "cell_type": "code",
   "execution_count": 189,
   "id": "81cddb45",
   "metadata": {},
   "outputs": [
    {
     "data": {
      "text/plain": [
       "Int64Index([1, 3, 4, 5, 6, 9, 12], dtype='int64', name='Month_of_Journey')"
      ]
     },
     "execution_count": 189,
     "metadata": {},
     "output_type": "execute_result"
    }
   ],
   "source": [
    "#Month\n",
    "a=df.groupby(['Month_of_Journey'])['Price'].agg(['sum']).index\n",
    "# a = list(a)\n",
    "a"
   ]
  },
  {
   "cell_type": "code",
   "execution_count": 190,
   "id": "9c3f6d6e",
   "metadata": {},
   "outputs": [
    {
     "data": {
      "image/png": "[encoded data removed]",
      "text/plain": [
       "<Figure size 432x288 with 1 Axes>"
      ]
     },
     "metadata": {
      "needs_background": "light"
     },
     "output_type": "display_data"
    }
   ],
   "source": [
    "plt.bar(a,z)\n",
    "plt.title('Prices')\n",
    "plt.show()"
   ]
  },
  {
   "cell_type": "code",
   "execution_count": 191,
   "id": "8fe87122",
   "metadata": {},
   "outputs": [
    {
     "data": {
      "text/plain": [
       "array(['IndiGo', 'Air India', 'Jet Airways', 'SpiceJet',\n",
       "       'Multiple carriers', 'GoAir', 'Vistara', 'Air Asia',\n",
       "       'Vistara Premium economy', 'Jet Airways Business',\n",
       "       'Multiple carriers Premium economy', 'Trujet'], dtype=object)"
      ]
     },
     "execution_count": 191,
     "metadata": {},
     "output_type": "execute_result"
    }
   ],
   "source": [
    "df['Airline'].unique()"
   ]
  },
  {
   "cell_type": "markdown",
   "id": "fade0533",
   "metadata": {},
   "source": [
    "# checking the availablity of flight with respect to \n",
    "##source and destination"
   ]
  },
  {
   "cell_type": "code",
   "execution_count": 194,
   "id": "bef884d9",
   "metadata": {},
   "outputs": [],
   "source": [
    "df1=df.groupby(['Destination','Source'])['Airline'].value_counts()"
   ]
  },
  {
   "cell_type": "code",
   "execution_count": 195,
   "id": "ffe7a800",
   "metadata": {},
   "outputs": [
    {
     "data": {
      "text/plain": [
       "Destination  Source    Airline                          \n",
       "Banglore     Kolkata   Jet Airways                          1256\n",
       "                       Air India                             512\n",
       "                       IndiGo                                445\n",
       "                       SpiceJet                              300\n",
       "                       Vistara                               183\n",
       "                       Air Asia                              150\n",
       "                       GoAir                                  25\n",
       "Cochin       Delhi     Jet Airways                          1586\n",
       "                       Multiple carriers                    1196\n",
       "                       Air India                             747\n",
       "                       IndiGo                                705\n",
       "                       SpiceJet                               87\n",
       "                       Air Asia                               80\n",
       "                       GoAir                                  76\n",
       "                       Vistara                                45\n",
       "                       Multiple carriers Premium economy      13\n",
       "                       Jet Airways Business                    2\n",
       "Delhi        Banglore  Jet Airways                           788\n",
       "                       IndiGo                                523\n",
       "                       Air India                             332\n",
       "                       Vistara                               185\n",
       "                       SpiceJet                              181\n",
       "                       GoAir                                  93\n",
       "                       Air Asia                               89\n",
       "                       Jet Airways Business                    4\n",
       "                       Vistara Premium economy                 2\n",
       "Hyderabad    Mumbai    Jet Airways                           219\n",
       "                       IndiGo                                196\n",
       "                       Air India                             136\n",
       "                       SpiceJet                              122\n",
       "                       Vistara                                23\n",
       "                       Trujet                                  1\n",
       "Kolkata      Chennai   IndiGo                                184\n",
       "                       SpiceJet                              128\n",
       "                       Vistara                                43\n",
       "                       Air India                              25\n",
       "                       Vistara Premium economy                 1\n",
       "Name: Airline, dtype: int64"
      ]
     },
     "execution_count": 195,
     "metadata": {},
     "output_type": "execute_result"
    }
   ],
   "source": [
    "df1"
   ]
  },
  {
   "cell_type": "code",
   "execution_count": null,
   "id": "a308f82d",
   "metadata": {},
   "outputs": [],
   "source": []
  },
  {
   "cell_type": "code",
   "execution_count": null,
   "id": "be0f2364",
   "metadata": {},
   "outputs": [],
   "source": []
  },
  {
   "cell_type": "code",
   "execution_count": null,
   "id": "56d587b0",
   "metadata": {},
   "outputs": [],
   "source": []
  },
  {
   "cell_type": "code",
   "execution_count": null,
   "id": "4bd5a899",
   "metadata": {},
   "outputs": [],
   "source": []
  },
  {
   "cell_type": "code",
   "execution_count": null,
   "id": "ce779c91",
   "metadata": {},
   "outputs": [],
   "source": []
  },
  {
   "cell_type": "code",
   "execution_count": null,
   "id": "3af16150",
   "metadata": {},
   "outputs": [],
   "source": []
  },
  {
   "cell_type": "code",
   "execution_count": null,
   "id": "684c5dd5",
   "metadata": {},
   "outputs": [],
   "source": []
  }
 ],
 "metadata": {
  "kernelspec": {
   "display_name": "Python 3 (ipykernel)",
   "language": "python",
   "name": "python3"
  },
  "language_info": {
   "codemirror_mode": {
    "name": "ipython",
    "version": 3
   },
   "file_extension": ".py",
   "mimetype": "text/x-python",
   "name": "python",
   "nbconvert_exporter": "python",
   "pygments_lexer": "ipython3",
   "version": "3.9.12"
  }
 },
 "nbformat": 4,
 "nbformat_minor": 5
}
