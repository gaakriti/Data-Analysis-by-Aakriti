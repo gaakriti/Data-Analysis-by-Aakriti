{
 "cells": [
  {
   "cell_type": "code",
   "execution_count": 1,
   "id": "fbbb90ca",
   "metadata": {},
   "outputs": [
    {
     "name": "stdout",
     "output_type": "stream",
     "text": [
      "Hello World\n"
     ]
    }
   ],
   "source": [
    "#Print Hello world!\n",
    "print(\"Hello World\")"
   ]
  },
  {
   "cell_type": "code",
   "execution_count": 3,
   "id": "e8b3ea0d",
   "metadata": {},
   "outputs": [
    {
     "name": "stdout",
     "output_type": "stream",
     "text": [
      "*****\n"
     ]
    }
   ],
   "source": [
    "#Print 5 adjacent Stars in Single Line using 5 print statements.\n",
    "print(\"*****\")"
   ]
  },
  {
   "cell_type": "code",
   "execution_count": 3,
   "id": "174c7f00",
   "metadata": {},
   "outputs": [
    {
     "name": "stdout",
     "output_type": "stream",
     "text": [
      "1\n",
      "\n",
      "2\n",
      "\n",
      "3\n",
      "\n",
      "4\n",
      "\n",
      "5\n",
      "\n"
     ]
    }
   ],
   "source": [
    "#Print the Nos 1 to 5 at screen with a gap of two lines in between using 5 print \n",
    "#statements.\n",
    "\n",
    "print(\"1\",end=\"\\n\\n\")\n",
    "print(\"2\",end=\"\\n\\n\")\n",
    "print(\"3\",end=\"\\n\\n\")\n",
    "print(\"4\",end=\"\\n\\n\")\n",
    "print(\"5\",end=\"\\n\\n\")"
   ]
  },
  {
   "cell_type": "code",
   "execution_count": 20,
   "id": "d0b60c8e",
   "metadata": {},
   "outputs": [
    {
     "name": "stdout",
     "output_type": "stream",
     "text": [
      "* * * * * "
     ]
    }
   ],
   "source": [
    "#Print 5 space separated stars in Single line using 5 print statement.\n",
    "print(\"*\", end=\" \")\n",
    "print(\"*\", end=\" \")\n",
    "print(\"*\", end=\" \")\n",
    "print(\"*\", end=\" \")\n",
    "print(\"*\", end=\" \")\n"
   ]
  },
  {
   "cell_type": "code",
   "execution_count": 6,
   "id": "8f5cceb2",
   "metadata": {},
   "outputs": [
    {
     "name": "stdout",
     "output_type": "stream",
     "text": [
      "Enter your name:Aakriti Garg\n",
      "<class 'str'>\n",
      "Enter your age:35\n",
      "<class 'str'>\n"
     ]
    }
   ],
   "source": [
    "#Take two inputs from the user and check their data types\n",
    "N=input(\"Enter your name:\")\n",
    "print(type(N))\n",
    "\n",
    "A=input(\"Enter your age:\")\n",
    "\n",
    "print(type(A))\n",
    "\n"
   ]
  },
  {
   "cell_type": "code",
   "execution_count": 5,
   "id": "e20a2412",
   "metadata": {},
   "outputs": [
    {
     "name": "stdout",
     "output_type": "stream",
     "text": [
      "enter 1st number:55\n",
      "enter 2nd number:63.5\n",
      "118.5\n"
     ]
    }
   ],
   "source": [
    "#Add Two float Numbers input by user.\n",
    "Num1=float(input(\"enter 1st number:\"))\n",
    "\n",
    "\n",
    "Num2=float(input(\"enter 2nd number:\"))\n",
    "\n",
    "Sum=Num1+Num2\n",
    "print(Sum)"
   ]
  },
  {
   "cell_type": "code",
   "execution_count": 12,
   "id": "5f6ca060",
   "metadata": {},
   "outputs": [
    {
     "name": "stdout",
     "output_type": "stream",
     "text": [
      "2cetpa3cetpa4cetpa5cetpa6cetpa7*"
     ]
    }
   ],
   "source": [
    "a=2 \n",
    "b=3\n",
    "c=4\n",
    "d=5 \n",
    "e=6\n",
    "f=7\n",
    "print(a,b,c,d,e,f,sep=\"cetpa\",end=\"*\")\n",
    "\n"
   ]
  },
  {
   "cell_type": "code",
   "execution_count": 16,
   "id": "6bae1667",
   "metadata": {},
   "outputs": [
    {
     "name": "stdout",
     "output_type": "stream",
     "text": [
      "2#3#4abc\n",
      "5\n",
      "6\n",
      "7\n"
     ]
    }
   ],
   "source": [
    "a=2 \n",
    "b=3\n",
    "c=4\n",
    "d=5 \n",
    "e=6\n",
    "f=7\n",
    "print(a,b,c,sep=\"#\",end=\"abc\")\n",
    "print(sep=\"\\n\")\n",
    "print(d,e,f,sep=\"\\n\")"
   ]
  },
  {
   "cell_type": "code",
   "execution_count": 17,
   "id": "8d07de90",
   "metadata": {},
   "outputs": [
    {
     "name": "stdout",
     "output_type": "stream",
     "text": [
      "2#3\n",
      "4\t\t\t5\n",
      "\n",
      "\n",
      "6 7\n"
     ]
    }
   ],
   "source": [
    "a=2 \n",
    "b=3\n",
    "c=4\n",
    "d=5 \n",
    "e=6\n",
    "f=7\n",
    "print(a,b,sep=\"#\")\n",
    "print(c,d,sep=\"\\t\\t\\t\",end=\"\\n\\n\\n\")\n",
    "print(e,f)"
   ]
  },
  {
   "cell_type": "code",
   "execution_count": 20,
   "id": "76a2c94f",
   "metadata": {},
   "outputs": [
    {
     "name": "stdout",
     "output_type": "stream",
     "text": [
      "2 3 4\n",
      "5\n",
      "7cetpa6\n",
      "6 7CETPA"
     ]
    }
   ],
   "source": [
    "a=2 \n",
    "b=3\n",
    "c=4\n",
    "d=5 \n",
    "e=6\n",
    "f=7\n",
    "print(a,b,c)\n",
    "print(d,sep=\"cetpa\")\n",
    "print(e,f,end=\"CETPA\")"
   ]
  },
  {
   "cell_type": "code",
   "execution_count": 21,
   "id": "19dd0427",
   "metadata": {},
   "outputs": [
    {
     "name": "stdout",
     "output_type": "stream",
     "text": [
      "23445656$7\n"
     ]
    }
   ],
   "source": [
    "a=2 \n",
    "b=3\n",
    "c=4\n",
    "d=5 \n",
    "e=6\n",
    "f=7\n",
    "print(a,b,c,sep=\"\",end=\"456\")\n",
    "print(d,end=\"\")\n",
    "print(e,f,sep=\"$\")"
   ]
  },
  {
   "cell_type": "code",
   "execution_count": 22,
   "id": "cc55cf24",
   "metadata": {},
   "outputs": [
    {
     "name": "stdout",
     "output_type": "stream",
     "text": [
      "25354\t\t\t\n",
      "5\n",
      "67"
     ]
    }
   ],
   "source": [
    "a=2 \n",
    "b=3\n",
    "c=4\n",
    "d=5 \n",
    "e=6\n",
    "f=7\n",
    "print(a,b,c,sep=\"5\",end=\"\\t\\t\\t\")\n",
    "print()\n",
    "print(d)\n",
    "print(e,f,sep=\"\",end=\"\")"
   ]
  },
  {
   "cell_type": "code",
   "execution_count": null,
   "id": "022b0b5b",
   "metadata": {},
   "outputs": [],
   "source": []
  }
 ],
 "metadata": {
  "kernelspec": {
   "display_name": "Python 3 (ipykernel)",
   "language": "python",
   "name": "python3"
  },
  "language_info": {
   "codemirror_mode": {
    "name": "ipython",
    "version": 3
   },
   "file_extension": ".py",
   "mimetype": "text/x-python",
   "name": "python",
   "nbconvert_exporter": "python",
   "pygments_lexer": "ipython3",
   "version": "3.9.12"
  }
 },
 "nbformat": 4,
 "nbformat_minor": 5
}
